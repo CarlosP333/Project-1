{
 "cells": [
  {
   "cell_type": "markdown",
   "id": "4f1a1bbd-50da-4753-b2bc-c86f5649768a",
   "metadata": {},
   "source": [
    "# Project 1 Carlos Palacios"
   ]
  },
  {
   "cell_type": "markdown",
   "id": "c4200a23-6b6d-4fba-ab4d-d399bf621b46",
   "metadata": {},
   "source": [
    "### Part A "
   ]
  },
  {
   "cell_type": "code",
   "execution_count": 1,
   "id": "64c3b035-fe95-402c-b484-421ad1fb5f5e",
   "metadata": {
    "tags": []
   },
   "outputs": [],
   "source": [
    "# Importing libraries\n",
    "\n",
    "import pandas as pd\n"
   ]
  },
  {
   "cell_type": "code",
   "execution_count": 2,
   "id": "d28df66a-c7ee-46dd-8d24-d9c541278374",
   "metadata": {
    "tags": []
   },
   "outputs": [],
   "source": [
    "# 1 Importing DataFrame as df\n",
    "\n",
    "df = pd.read_csv(\"p1_communes.csv\")"
   ]
  },
  {
   "cell_type": "code",
   "execution_count": 3,
   "id": "b4a9f7c8-c089-49c4-b02c-2d819ae12799",
   "metadata": {
    "tags": []
   },
   "outputs": [
    {
     "data": {
      "text/plain": [
       "(2202, 17)"
      ]
     },
     "execution_count": 3,
     "metadata": {},
     "output_type": "execute_result"
    }
   ],
   "source": [
    "# 2 Number of rows and columns\n",
    "\n",
    "df.shape"
   ]
  },
  {
   "cell_type": "code",
   "execution_count": 4,
   "id": "b706110c-7560-4f05-8252-3fa58c6d15b0",
   "metadata": {
    "tags": []
   },
   "outputs": [
    {
     "data": {
      "text/html": [
       "<div>\n",
       "<style scoped>\n",
       "    .dataframe tbody tr th:only-of-type {\n",
       "        vertical-align: middle;\n",
       "    }\n",
       "\n",
       "    .dataframe tbody tr th {\n",
       "        vertical-align: top;\n",
       "    }\n",
       "\n",
       "    .dataframe thead th {\n",
       "        text-align: right;\n",
       "    }\n",
       "</style>\n",
       "<table border=\"1\" class=\"dataframe\">\n",
       "  <thead>\n",
       "    <tr style=\"text-align: right;\">\n",
       "      <th></th>\n",
       "      <th>Canton</th>\n",
       "      <th>Commune</th>\n",
       "      <th>Language</th>\n",
       "      <th>Residents</th>\n",
       "      <th>Population density per km²</th>\n",
       "      <th>0-19 years</th>\n",
       "      <th>20-64 years</th>\n",
       "      <th>65 years or over</th>\n",
       "      <th>Private households</th>\n",
       "      <th>Surface area in km²</th>\n",
       "      <th>Settlement area</th>\n",
       "      <th>Agricultural area</th>\n",
       "      <th>Wooded area</th>\n",
       "      <th>Unproductive area</th>\n",
       "      <th>East coordinate</th>\n",
       "      <th>North coordinate</th>\n",
       "      <th>Elevation</th>\n",
       "    </tr>\n",
       "  </thead>\n",
       "  <tbody>\n",
       "    <tr>\n",
       "      <th>0</th>\n",
       "      <td>ZH</td>\n",
       "      <td>Aeugst am Albis</td>\n",
       "      <td>de</td>\n",
       "      <td>1982</td>\n",
       "      <td>250.568900</td>\n",
       "      <td>19.677094</td>\n",
       "      <td>62.764884</td>\n",
       "      <td>17.558022</td>\n",
       "      <td>835</td>\n",
       "      <td>7.91</td>\n",
       "      <td>12.658228</td>\n",
       "      <td>51.139241</td>\n",
       "      <td>30.886076</td>\n",
       "      <td>5.316456</td>\n",
       "      <td>2679300</td>\n",
       "      <td>1235700</td>\n",
       "      <td>673</td>\n",
       "    </tr>\n",
       "    <tr>\n",
       "      <th>1</th>\n",
       "      <td>ZH</td>\n",
       "      <td>Affoltern am Albis</td>\n",
       "      <td>de</td>\n",
       "      <td>12229</td>\n",
       "      <td>1154.768650</td>\n",
       "      <td>20.508627</td>\n",
       "      <td>61.329626</td>\n",
       "      <td>18.161747</td>\n",
       "      <td>5348</td>\n",
       "      <td>10.59</td>\n",
       "      <td>30.674264</td>\n",
       "      <td>40.170940</td>\n",
       "      <td>28.205128</td>\n",
       "      <td>0.949668</td>\n",
       "      <td>2676800</td>\n",
       "      <td>1236800</td>\n",
       "      <td>502</td>\n",
       "    </tr>\n",
       "    <tr>\n",
       "      <th>2</th>\n",
       "      <td>ZH</td>\n",
       "      <td>Bonstetten</td>\n",
       "      <td>de</td>\n",
       "      <td>5548</td>\n",
       "      <td>746.702557</td>\n",
       "      <td>23.666186</td>\n",
       "      <td>60.310022</td>\n",
       "      <td>16.023792</td>\n",
       "      <td>2325</td>\n",
       "      <td>7.43</td>\n",
       "      <td>15.456989</td>\n",
       "      <td>55.510753</td>\n",
       "      <td>28.629032</td>\n",
       "      <td>0.403226</td>\n",
       "      <td>2677800</td>\n",
       "      <td>1241000</td>\n",
       "      <td>583</td>\n",
       "    </tr>\n",
       "    <tr>\n",
       "      <th>3</th>\n",
       "      <td>ZH</td>\n",
       "      <td>Hausen am Albis</td>\n",
       "      <td>de</td>\n",
       "      <td>3701</td>\n",
       "      <td>272.132353</td>\n",
       "      <td>21.804918</td>\n",
       "      <td>60.686301</td>\n",
       "      <td>17.508781</td>\n",
       "      <td>1546</td>\n",
       "      <td>13.60</td>\n",
       "      <td>12.692590</td>\n",
       "      <td>55.906090</td>\n",
       "      <td>28.833456</td>\n",
       "      <td>2.567865</td>\n",
       "      <td>2682900</td>\n",
       "      <td>1233100</td>\n",
       "      <td>653</td>\n",
       "    </tr>\n",
       "    <tr>\n",
       "      <th>4</th>\n",
       "      <td>ZH</td>\n",
       "      <td>Hedingen</td>\n",
       "      <td>de</td>\n",
       "      <td>3734</td>\n",
       "      <td>571.822358</td>\n",
       "      <td>21.772898</td>\n",
       "      <td>61.756829</td>\n",
       "      <td>16.470273</td>\n",
       "      <td>1540</td>\n",
       "      <td>6.53</td>\n",
       "      <td>19.817073</td>\n",
       "      <td>46.341463</td>\n",
       "      <td>33.231707</td>\n",
       "      <td>0.609756</td>\n",
       "      <td>2676400</td>\n",
       "      <td>1239000</td>\n",
       "      <td>543</td>\n",
       "    </tr>\n",
       "  </tbody>\n",
       "</table>\n",
       "</div>"
      ],
      "text/plain": [
       "  Canton             Commune Language  Residents  Population density per km²  \\\n",
       "0     ZH     Aeugst am Albis       de       1982                  250.568900   \n",
       "1     ZH  Affoltern am Albis       de      12229                 1154.768650   \n",
       "2     ZH          Bonstetten       de       5548                  746.702557   \n",
       "3     ZH     Hausen am Albis       de       3701                  272.132353   \n",
       "4     ZH            Hedingen       de       3734                  571.822358   \n",
       "\n",
       "   0-19 years  20-64 years  65 years or over  Private households  \\\n",
       "0   19.677094    62.764884         17.558022                 835   \n",
       "1   20.508627    61.329626         18.161747                5348   \n",
       "2   23.666186    60.310022         16.023792                2325   \n",
       "3   21.804918    60.686301         17.508781                1546   \n",
       "4   21.772898    61.756829         16.470273                1540   \n",
       "\n",
       "   Surface area in km²  Settlement area  Agricultural area  Wooded area  \\\n",
       "0                 7.91        12.658228          51.139241    30.886076   \n",
       "1                10.59        30.674264          40.170940    28.205128   \n",
       "2                 7.43        15.456989          55.510753    28.629032   \n",
       "3                13.60        12.692590          55.906090    28.833456   \n",
       "4                 6.53        19.817073          46.341463    33.231707   \n",
       "\n",
       "   Unproductive area  East coordinate  North coordinate  Elevation  \n",
       "0           5.316456          2679300           1235700        673  \n",
       "1           0.949668          2676800           1236800        502  \n",
       "2           0.403226          2677800           1241000        583  \n",
       "3           2.567865          2682900           1233100        653  \n",
       "4           0.609756          2676400           1239000        543  "
      ]
     },
     "execution_count": 4,
     "metadata": {},
     "output_type": "execute_result"
    }
   ],
   "source": [
    "# 3 First few entries of \"df\"\n",
    "\n",
    "df.head()"
   ]
  },
  {
   "cell_type": "code",
   "execution_count": 5,
   "id": "a618c47f-9d1c-447e-9b12-0a317ab0e791",
   "metadata": {
    "tags": []
   },
   "outputs": [
    {
     "data": {
      "text/plain": [
       "['Canton',\n",
       " 'Commune',\n",
       " 'Language',\n",
       " 'Residents',\n",
       " 'Population density per km²',\n",
       " '0-19 years',\n",
       " '20-64 years',\n",
       " '65 years or over',\n",
       " 'Private households',\n",
       " 'Surface area in km²',\n",
       " 'Settlement area',\n",
       " 'Agricultural area',\n",
       " 'Wooded area',\n",
       " 'Unproductive area',\n",
       " 'East coordinate',\n",
       " 'North coordinate',\n",
       " 'Elevation']"
      ]
     },
     "execution_count": 5,
     "metadata": {},
     "output_type": "execute_result"
    }
   ],
   "source": [
    "# 4 Index labels and list of column names\n",
    "\n",
    "df.index.tolist()\n",
    "df.columns.tolist()"
   ]
  },
  {
   "cell_type": "code",
   "execution_count": 6,
   "id": "8ba02249-5893-48a2-b4ee-bad6e51522b3",
   "metadata": {
    "tags": []
   },
   "outputs": [
    {
     "data": {
      "text/plain": [
       "Canton                         object\n",
       "Commune                        object\n",
       "Language                       object\n",
       "Residents                       int64\n",
       "Population density per km²    float64\n",
       "0-19 years                    float64\n",
       "20-64 years                   float64\n",
       "65 years or over              float64\n",
       "Private households              int64\n",
       "Surface area in km²           float64\n",
       "Settlement area               float64\n",
       "Agricultural area             float64\n",
       "Wooded area                   float64\n",
       "Unproductive area             float64\n",
       "East coordinate                 int64\n",
       "North coordinate                int64\n",
       "Elevation                       int64\n",
       "dtype: object"
      ]
     },
     "execution_count": 6,
     "metadata": {},
     "output_type": "execute_result"
    }
   ],
   "source": [
    "# 5 Column data type\n",
    "\n",
    "df.dtypes"
   ]
  },
  {
   "cell_type": "code",
   "execution_count": 7,
   "id": "ace82ec6-ead5-4600-a608-92072ed050b2",
   "metadata": {
    "tags": []
   },
   "outputs": [
    {
     "data": {
      "text/plain": [
       "Canton                         3\n",
       "Commune                        0\n",
       "Language                      11\n",
       "Residents                      0\n",
       "Population density per km²     0\n",
       "0-19 years                     0\n",
       "20-64 years                    0\n",
       "65 years or over               0\n",
       "Private households             0\n",
       "Surface area in km²            0\n",
       "Settlement area                0\n",
       "Agricultural area              0\n",
       "Wooded area                    0\n",
       "Unproductive area              0\n",
       "East coordinate                0\n",
       "North coordinate               0\n",
       "Elevation                      0\n",
       "dtype: int64"
      ]
     },
     "execution_count": 7,
     "metadata": {},
     "output_type": "execute_result"
    }
   ],
   "source": [
    "# 6 Check for missing values\n",
    "\n",
    "df.isnull().sum()"
   ]
  },
  {
   "cell_type": "code",
   "execution_count": 8,
   "id": "0b27d114-9f83-4a3f-8179-186d7ba11ac7",
   "metadata": {
    "tags": []
   },
   "outputs": [],
   "source": [
    "df = df.dropna()"
   ]
  },
  {
   "cell_type": "code",
   "execution_count": null,
   "id": "112193a9-8b87-4c24-932d-0a1efb8d288f",
   "metadata": {},
   "outputs": [],
   "source": []
  }
 ],
 "metadata": {
  "kernelspec": {
   "display_name": "Python 3 (ipykernel)",
   "language": "python",
   "name": "python3"
  },
  "language_info": {
   "codemirror_mode": {
    "name": "ipython",
    "version": 3
   },
   "file_extension": ".py",
   "mimetype": "text/x-python",
   "name": "python",
   "nbconvert_exporter": "python",
   "pygments_lexer": "ipython3",
   "version": "3.11.5"
  }
 },
 "nbformat": 4,
 "nbformat_minor": 5
}
