{
 "cells": [
  {
   "cell_type": "markdown",
   "id": "4f1a1bbd-50da-4753-b2bc-c86f5649768a",
   "metadata": {},
   "source": [
    "# Project 1 Carlos Palacios"
   ]
  },
  {
   "cell_type": "markdown",
   "id": "c4200a23-6b6d-4fba-ab4d-d399bf621b46",
   "metadata": {},
   "source": [
    "### Part A "
   ]
  },
  {
   "cell_type": "code",
   "execution_count": 1,
   "id": "64c3b035-fe95-402c-b484-421ad1fb5f5e",
   "metadata": {
    "tags": []
   },
   "outputs": [],
   "source": [
    "# Importing libraries\n",
    "\n",
    "import pandas as pd\n"
   ]
  },
  {
   "cell_type": "code",
   "execution_count": 2,
   "id": "d28df66a-c7ee-46dd-8d24-d9c541278374",
   "metadata": {
    "tags": []
   },
   "outputs": [],
   "source": [
    "# 1 Importing DataFrame as df\n",
    "\n",
    "df = pd.read_csv(\"p1_communes.csv\")"
   ]
  },
  {
   "cell_type": "code",
   "execution_count": 3,
   "id": "b4a9f7c8-c089-49c4-b02c-2d819ae12799",
   "metadata": {
    "tags": []
   },
   "outputs": [
    {
     "data": {
      "text/plain": [
       "(2202, 17)"
      ]
     },
     "execution_count": 3,
     "metadata": {},
     "output_type": "execute_result"
    }
   ],
   "source": [
    "# 2 Number of rows and columns\n",
    "\n",
    "df.shape"
   ]
  },
  {
   "cell_type": "code",
   "execution_count": 4,
   "id": "b706110c-7560-4f05-8252-3fa58c6d15b0",
   "metadata": {
    "tags": []
   },
   "outputs": [
    {
     "data": {
      "text/html": [
       "<div>\n",
       "<style scoped>\n",
       "    .dataframe tbody tr th:only-of-type {\n",
       "        vertical-align: middle;\n",
       "    }\n",
       "\n",
       "    .dataframe tbody tr th {\n",
       "        vertical-align: top;\n",
       "    }\n",
       "\n",
       "    .dataframe thead th {\n",
       "        text-align: right;\n",
       "    }\n",
       "</style>\n",
       "<table border=\"1\" class=\"dataframe\">\n",
       "  <thead>\n",
       "    <tr style=\"text-align: right;\">\n",
       "      <th></th>\n",
       "      <th>Canton</th>\n",
       "      <th>Commune</th>\n",
       "      <th>Language</th>\n",
       "      <th>Residents</th>\n",
       "      <th>Population density per km²</th>\n",
       "      <th>0-19 years</th>\n",
       "      <th>20-64 years</th>\n",
       "      <th>65 years or over</th>\n",
       "      <th>Private households</th>\n",
       "      <th>Surface area in km²</th>\n",
       "      <th>Settlement area</th>\n",
       "      <th>Agricultural area</th>\n",
       "      <th>Wooded area</th>\n",
       "      <th>Unproductive area</th>\n",
       "      <th>East coordinate</th>\n",
       "      <th>North coordinate</th>\n",
       "      <th>Elevation</th>\n",
       "    </tr>\n",
       "  </thead>\n",
       "  <tbody>\n",
       "    <tr>\n",
       "      <th>0</th>\n",
       "      <td>ZH</td>\n",
       "      <td>Aeugst am Albis</td>\n",
       "      <td>de</td>\n",
       "      <td>1982</td>\n",
       "      <td>250.568900</td>\n",
       "      <td>19.677094</td>\n",
       "      <td>62.764884</td>\n",
       "      <td>17.558022</td>\n",
       "      <td>835</td>\n",
       "      <td>7.91</td>\n",
       "      <td>12.658228</td>\n",
       "      <td>51.139241</td>\n",
       "      <td>30.886076</td>\n",
       "      <td>5.316456</td>\n",
       "      <td>2679300</td>\n",
       "      <td>1235700</td>\n",
       "      <td>673</td>\n",
       "    </tr>\n",
       "    <tr>\n",
       "      <th>1</th>\n",
       "      <td>ZH</td>\n",
       "      <td>Affoltern am Albis</td>\n",
       "      <td>de</td>\n",
       "      <td>12229</td>\n",
       "      <td>1154.768650</td>\n",
       "      <td>20.508627</td>\n",
       "      <td>61.329626</td>\n",
       "      <td>18.161747</td>\n",
       "      <td>5348</td>\n",
       "      <td>10.59</td>\n",
       "      <td>30.674264</td>\n",
       "      <td>40.170940</td>\n",
       "      <td>28.205128</td>\n",
       "      <td>0.949668</td>\n",
       "      <td>2676800</td>\n",
       "      <td>1236800</td>\n",
       "      <td>502</td>\n",
       "    </tr>\n",
       "    <tr>\n",
       "      <th>2</th>\n",
       "      <td>ZH</td>\n",
       "      <td>Bonstetten</td>\n",
       "      <td>de</td>\n",
       "      <td>5548</td>\n",
       "      <td>746.702557</td>\n",
       "      <td>23.666186</td>\n",
       "      <td>60.310022</td>\n",
       "      <td>16.023792</td>\n",
       "      <td>2325</td>\n",
       "      <td>7.43</td>\n",
       "      <td>15.456989</td>\n",
       "      <td>55.510753</td>\n",
       "      <td>28.629032</td>\n",
       "      <td>0.403226</td>\n",
       "      <td>2677800</td>\n",
       "      <td>1241000</td>\n",
       "      <td>583</td>\n",
       "    </tr>\n",
       "    <tr>\n",
       "      <th>3</th>\n",
       "      <td>ZH</td>\n",
       "      <td>Hausen am Albis</td>\n",
       "      <td>de</td>\n",
       "      <td>3701</td>\n",
       "      <td>272.132353</td>\n",
       "      <td>21.804918</td>\n",
       "      <td>60.686301</td>\n",
       "      <td>17.508781</td>\n",
       "      <td>1546</td>\n",
       "      <td>13.60</td>\n",
       "      <td>12.692590</td>\n",
       "      <td>55.906090</td>\n",
       "      <td>28.833456</td>\n",
       "      <td>2.567865</td>\n",
       "      <td>2682900</td>\n",
       "      <td>1233100</td>\n",
       "      <td>653</td>\n",
       "    </tr>\n",
       "    <tr>\n",
       "      <th>4</th>\n",
       "      <td>ZH</td>\n",
       "      <td>Hedingen</td>\n",
       "      <td>de</td>\n",
       "      <td>3734</td>\n",
       "      <td>571.822358</td>\n",
       "      <td>21.772898</td>\n",
       "      <td>61.756829</td>\n",
       "      <td>16.470273</td>\n",
       "      <td>1540</td>\n",
       "      <td>6.53</td>\n",
       "      <td>19.817073</td>\n",
       "      <td>46.341463</td>\n",
       "      <td>33.231707</td>\n",
       "      <td>0.609756</td>\n",
       "      <td>2676400</td>\n",
       "      <td>1239000</td>\n",
       "      <td>543</td>\n",
       "    </tr>\n",
       "  </tbody>\n",
       "</table>\n",
       "</div>"
      ],
      "text/plain": [
       "  Canton             Commune Language  Residents  Population density per km²  \\\n",
       "0     ZH     Aeugst am Albis       de       1982                  250.568900   \n",
       "1     ZH  Affoltern am Albis       de      12229                 1154.768650   \n",
       "2     ZH          Bonstetten       de       5548                  746.702557   \n",
       "3     ZH     Hausen am Albis       de       3701                  272.132353   \n",
       "4     ZH            Hedingen       de       3734                  571.822358   \n",
       "\n",
       "   0-19 years  20-64 years  65 years or over  Private households  \\\n",
       "0   19.677094    62.764884         17.558022                 835   \n",
       "1   20.508627    61.329626         18.161747                5348   \n",
       "2   23.666186    60.310022         16.023792                2325   \n",
       "3   21.804918    60.686301         17.508781                1546   \n",
       "4   21.772898    61.756829         16.470273                1540   \n",
       "\n",
       "   Surface area in km²  Settlement area  Agricultural area  Wooded area  \\\n",
       "0                 7.91        12.658228          51.139241    30.886076   \n",
       "1                10.59        30.674264          40.170940    28.205128   \n",
       "2                 7.43        15.456989          55.510753    28.629032   \n",
       "3                13.60        12.692590          55.906090    28.833456   \n",
       "4                 6.53        19.817073          46.341463    33.231707   \n",
       "\n",
       "   Unproductive area  East coordinate  North coordinate  Elevation  \n",
       "0           5.316456          2679300           1235700        673  \n",
       "1           0.949668          2676800           1236800        502  \n",
       "2           0.403226          2677800           1241000        583  \n",
       "3           2.567865          2682900           1233100        653  \n",
       "4           0.609756          2676400           1239000        543  "
      ]
     },
     "execution_count": 4,
     "metadata": {},
     "output_type": "execute_result"
    }
   ],
   "source": [
    "# 3 First few entries of \"df\"\n",
    "\n",
    "df.head()"
   ]
  },
  {
   "cell_type": "code",
   "execution_count": 5,
   "id": "a618c47f-9d1c-447e-9b12-0a317ab0e791",
   "metadata": {
    "tags": []
   },
   "outputs": [
    {
     "data": {
      "text/plain": [
       "['Canton',\n",
       " 'Commune',\n",
       " 'Language',\n",
       " 'Residents',\n",
       " 'Population density per km²',\n",
       " '0-19 years',\n",
       " '20-64 years',\n",
       " '65 years or over',\n",
       " 'Private households',\n",
       " 'Surface area in km²',\n",
       " 'Settlement area',\n",
       " 'Agricultural area',\n",
       " 'Wooded area',\n",
       " 'Unproductive area',\n",
       " 'East coordinate',\n",
       " 'North coordinate',\n",
       " 'Elevation']"
      ]
     },
     "execution_count": 5,
     "metadata": {},
     "output_type": "execute_result"
    }
   ],
   "source": [
    "# 4 Index labels and list of column names\n",
    "\n",
    "df.index.tolist()\n",
    "df.columns.tolist()"
   ]
  },
  {
   "cell_type": "code",
   "execution_count": 6,
   "id": "8ba02249-5893-48a2-b4ee-bad6e51522b3",
   "metadata": {
    "tags": []
   },
   "outputs": [
    {
     "data": {
      "text/plain": [
       "Canton                         object\n",
       "Commune                        object\n",
       "Language                       object\n",
       "Residents                       int64\n",
       "Population density per km²    float64\n",
       "0-19 years                    float64\n",
       "20-64 years                   float64\n",
       "65 years or over              float64\n",
       "Private households              int64\n",
       "Surface area in km²           float64\n",
       "Settlement area               float64\n",
       "Agricultural area             float64\n",
       "Wooded area                   float64\n",
       "Unproductive area             float64\n",
       "East coordinate                 int64\n",
       "North coordinate                int64\n",
       "Elevation                       int64\n",
       "dtype: object"
      ]
     },
     "execution_count": 6,
     "metadata": {},
     "output_type": "execute_result"
    }
   ],
   "source": [
    "# 5 Column data type\n",
    "\n",
    "df.dtypes"
   ]
  },
  {
   "cell_type": "code",
   "execution_count": 7,
   "id": "ace82ec6-ead5-4600-a608-92072ed050b2",
   "metadata": {
    "tags": []
   },
   "outputs": [
    {
     "data": {
      "text/plain": [
       "Canton                         3\n",
       "Commune                        0\n",
       "Language                      11\n",
       "Residents                      0\n",
       "Population density per km²     0\n",
       "0-19 years                     0\n",
       "20-64 years                    0\n",
       "65 years or over               0\n",
       "Private households             0\n",
       "Surface area in km²            0\n",
       "Settlement area                0\n",
       "Agricultural area              0\n",
       "Wooded area                    0\n",
       "Unproductive area              0\n",
       "East coordinate                0\n",
       "North coordinate               0\n",
       "Elevation                      0\n",
       "dtype: int64"
      ]
     },
     "execution_count": 7,
     "metadata": {},
     "output_type": "execute_result"
    }
   ],
   "source": [
    "# 6 Check for missing values\n",
    "\n",
    "df.isnull().sum()"
   ]
  },
  {
   "cell_type": "code",
   "execution_count": 8,
   "id": "0b27d114-9f83-4a3f-8179-186d7ba11ac7",
   "metadata": {
    "tags": []
   },
   "outputs": [],
   "source": [
    "df = df.dropna()"
   ]
  },
  {
   "cell_type": "markdown",
   "id": "ec1c0562-15d0-4dcb-b8f6-f842f1bb9da3",
   "metadata": {},
   "source": [
    "## Part B Exploration"
   ]
  },
  {
   "cell_type": "code",
   "execution_count": 12,
   "id": "fdeb95c0-b4bf-4148-8b37-91991923d9ef",
   "metadata": {
    "tags": []
   },
   "outputs": [
    {
     "data": {
      "text/html": [
       "<div>\n",
       "<style scoped>\n",
       "    .dataframe tbody tr th:only-of-type {\n",
       "        vertical-align: middle;\n",
       "    }\n",
       "\n",
       "    .dataframe tbody tr th {\n",
       "        vertical-align: top;\n",
       "    }\n",
       "\n",
       "    .dataframe thead th {\n",
       "        text-align: right;\n",
       "    }\n",
       "</style>\n",
       "<table border=\"1\" class=\"dataframe\">\n",
       "  <thead>\n",
       "    <tr style=\"text-align: right;\">\n",
       "      <th></th>\n",
       "      <th>Residents</th>\n",
       "      <th>Population density per km²</th>\n",
       "      <th>0-19 years</th>\n",
       "      <th>20-64 years</th>\n",
       "      <th>65 years or over</th>\n",
       "      <th>Private households</th>\n",
       "      <th>Surface area in km²</th>\n",
       "      <th>Settlement area</th>\n",
       "      <th>Agricultural area</th>\n",
       "      <th>Wooded area</th>\n",
       "      <th>Unproductive area</th>\n",
       "      <th>East coordinate</th>\n",
       "      <th>North coordinate</th>\n",
       "      <th>Elevation</th>\n",
       "    </tr>\n",
       "  </thead>\n",
       "  <tbody>\n",
       "    <tr>\n",
       "      <th>mean</th>\n",
       "      <td>3865.299863</td>\n",
       "      <td>433.424048</td>\n",
       "      <td>20.585167</td>\n",
       "      <td>60.371180</td>\n",
       "      <td>19.043653</td>\n",
       "      <td>1702.485167</td>\n",
       "      <td>17.97283</td>\n",
       "      <td>14.882541</td>\n",
       "      <td>45.929853</td>\n",
       "      <td>32.575829</td>\n",
       "      <td>6.611777</td>\n",
       "      <td>2.631543e+06</td>\n",
       "      <td>1.202302e+06</td>\n",
       "      <td>768.209493</td>\n",
       "    </tr>\n",
       "    <tr>\n",
       "      <th>min</th>\n",
       "      <td>11.000000</td>\n",
       "      <td>0.895037</td>\n",
       "      <td>0.000000</td>\n",
       "      <td>18.181818</td>\n",
       "      <td>6.271186</td>\n",
       "      <td>10.000000</td>\n",
       "      <td>0.31000</td>\n",
       "      <td>0.138897</td>\n",
       "      <td>0.000000</td>\n",
       "      <td>0.000000</td>\n",
       "      <td>0.000000</td>\n",
       "      <td>2.486700e+06</td>\n",
       "      <td>1.077200e+06</td>\n",
       "      <td>200.000000</td>\n",
       "    </tr>\n",
       "    <tr>\n",
       "      <th>max</th>\n",
       "      <td>415367.000000</td>\n",
       "      <td>12669.052100</td>\n",
       "      <td>37.777778</td>\n",
       "      <td>77.922078</td>\n",
       "      <td>81.818182</td>\n",
       "      <td>201252.000000</td>\n",
       "      <td>438.63000</td>\n",
       "      <td>97.260274</td>\n",
       "      <td>91.509434</td>\n",
       "      <td>88.235294</td>\n",
       "      <td>95.022860</td>\n",
       "      <td>2.828800e+06</td>\n",
       "      <td>1.294100e+06</td>\n",
       "      <td>3080.000000</td>\n",
       "    </tr>\n",
       "  </tbody>\n",
       "</table>\n",
       "</div>"
      ],
      "text/plain": [
       "          Residents  Population density per km²  0-19 years  20-64 years  \\\n",
       "mean    3865.299863                  433.424048   20.585167    60.371180   \n",
       "min       11.000000                    0.895037    0.000000    18.181818   \n",
       "max   415367.000000                12669.052100   37.777778    77.922078   \n",
       "\n",
       "      65 years or over  Private households  Surface area in km²  \\\n",
       "mean         19.043653         1702.485167             17.97283   \n",
       "min           6.271186           10.000000              0.31000   \n",
       "max          81.818182       201252.000000            438.63000   \n",
       "\n",
       "      Settlement area  Agricultural area  Wooded area  Unproductive area  \\\n",
       "mean        14.882541          45.929853    32.575829           6.611777   \n",
       "min          0.138897           0.000000     0.000000           0.000000   \n",
       "max         97.260274          91.509434    88.235294          95.022860   \n",
       "\n",
       "      East coordinate  North coordinate    Elevation  \n",
       "mean     2.631543e+06      1.202302e+06   768.209493  \n",
       "min      2.486700e+06      1.077200e+06   200.000000  \n",
       "max      2.828800e+06      1.294100e+06  3080.000000  "
      ]
     },
     "execution_count": 12,
     "metadata": {},
     "output_type": "execute_result"
    }
   ],
   "source": [
    "# 1 Mean, minimum and maximum for numerical data\n",
    "\n",
    "numerical_columns = [\"Residents\", \"Population density per km²\", \"0-19 years\", \"20-64 years\", \"65 years or over\", \n",
    "                     \"Private households\", \"Surface area in km²\", \"Settlement area\", \"Agricultural area\", \"Wooded area\", \n",
    "                     \"Unproductive area\", \"East coordinate\", \"North coordinate\", \"Elevation\"]\n",
    "\n",
    "df[numerical_columns].agg([\"mean\", \"min\", \"max\"])"
   ]
  },
  {
   "cell_type": "code",
   "execution_count": 13,
   "id": "2620f697-afa1-4c29-a53f-bdab47f790e4",
   "metadata": {
    "tags": []
   },
   "outputs": [
    {
     "data": {
      "text/html": [
       "<div>\n",
       "<style scoped>\n",
       "    .dataframe tbody tr th:only-of-type {\n",
       "        vertical-align: middle;\n",
       "    }\n",
       "\n",
       "    .dataframe tbody tr th {\n",
       "        vertical-align: top;\n",
       "    }\n",
       "\n",
       "    .dataframe thead th {\n",
       "        text-align: right;\n",
       "    }\n",
       "</style>\n",
       "<table border=\"1\" class=\"dataframe\">\n",
       "  <thead>\n",
       "    <tr style=\"text-align: right;\">\n",
       "      <th></th>\n",
       "      <th>Commune</th>\n",
       "      <th>Residents</th>\n",
       "    </tr>\n",
       "  </thead>\n",
       "  <tbody>\n",
       "    <tr>\n",
       "      <th>154</th>\n",
       "      <td>Zürich</td>\n",
       "      <td>415367</td>\n",
       "    </tr>\n",
       "    <tr>\n",
       "      <th>2124</th>\n",
       "      <td>Genève</td>\n",
       "      <td>201818</td>\n",
       "    </tr>\n",
       "    <tr>\n",
       "      <th>910</th>\n",
       "      <td>Basel</td>\n",
       "      <td>172258</td>\n",
       "    </tr>\n",
       "    <tr>\n",
       "      <th>1749</th>\n",
       "      <td>Lausanne</td>\n",
       "      <td>139111</td>\n",
       "    </tr>\n",
       "    <tr>\n",
       "      <th>194</th>\n",
       "      <td>Bern</td>\n",
       "      <td>133883</td>\n",
       "    </tr>\n",
       "    <tr>\n",
       "      <th>141</th>\n",
       "      <td>Winterthur</td>\n",
       "      <td>111851</td>\n",
       "    </tr>\n",
       "    <tr>\n",
       "      <th>535</th>\n",
       "      <td>Luzern</td>\n",
       "      <td>81691</td>\n",
       "    </tr>\n",
       "    <tr>\n",
       "      <th>1053</th>\n",
       "      <td>St. Gallen</td>\n",
       "      <td>75833</td>\n",
       "    </tr>\n",
       "    <tr>\n",
       "      <th>1582</th>\n",
       "      <td>Lugano</td>\n",
       "      <td>63185</td>\n",
       "    </tr>\n",
       "    <tr>\n",
       "      <th>207</th>\n",
       "      <td>Biel/Bienne</td>\n",
       "      <td>55159</td>\n",
       "    </tr>\n",
       "  </tbody>\n",
       "</table>\n",
       "</div>"
      ],
      "text/plain": [
       "          Commune  Residents\n",
       "154        Zürich     415367\n",
       "2124       Genève     201818\n",
       "910         Basel     172258\n",
       "1749     Lausanne     139111\n",
       "194          Bern     133883\n",
       "141    Winterthur     111851\n",
       "535        Luzern      81691\n",
       "1053   St. Gallen      75833\n",
       "1582       Lugano      63185\n",
       "207   Biel/Bienne      55159"
      ]
     },
     "execution_count": 13,
     "metadata": {},
     "output_type": "execute_result"
    }
   ],
   "source": [
    "# 2 Top 10 most populated communes by number of residents\n",
    "\n",
    "df.nlargest(10, \"Residents\")[[\"Commune\", \"Residents\"]]"
   ]
  },
  {
   "cell_type": "code",
   "execution_count": 14,
   "id": "908b8301-e570-4572-8a4d-d24222b75e21",
   "metadata": {
    "tags": []
   },
   "outputs": [
    {
     "data": {
      "text/html": [
       "<div>\n",
       "<style scoped>\n",
       "    .dataframe tbody tr th:only-of-type {\n",
       "        vertical-align: middle;\n",
       "    }\n",
       "\n",
       "    .dataframe tbody tr th {\n",
       "        vertical-align: top;\n",
       "    }\n",
       "\n",
       "    .dataframe thead th {\n",
       "        text-align: right;\n",
       "    }\n",
       "</style>\n",
       "<table border=\"1\" class=\"dataframe\">\n",
       "  <thead>\n",
       "    <tr style=\"text-align: right;\">\n",
       "      <th></th>\n",
       "      <th>Commune</th>\n",
       "      <th>Residents</th>\n",
       "    </tr>\n",
       "  </thead>\n",
       "  <tbody>\n",
       "    <tr>\n",
       "      <th>1546</th>\n",
       "      <td>Corippo</td>\n",
       "      <td>11</td>\n",
       "    </tr>\n",
       "    <tr>\n",
       "      <th>875</th>\n",
       "      <td>Kammersrohr</td>\n",
       "      <td>28</td>\n",
       "    </tr>\n",
       "    <tr>\n",
       "      <th>2011</th>\n",
       "      <td>Bister</td>\n",
       "      <td>33</td>\n",
       "    </tr>\n",
       "    <tr>\n",
       "      <th>366</th>\n",
       "      <td>Schelten</td>\n",
       "      <td>36</td>\n",
       "    </tr>\n",
       "    <tr>\n",
       "      <th>370</th>\n",
       "      <td>Rebévelier</td>\n",
       "      <td>41</td>\n",
       "    </tr>\n",
       "    <tr>\n",
       "      <th>485</th>\n",
       "      <td>Berken</td>\n",
       "      <td>45</td>\n",
       "    </tr>\n",
       "    <tr>\n",
       "      <th>1629</th>\n",
       "      <td>Cerentino</td>\n",
       "      <td>45</td>\n",
       "    </tr>\n",
       "    <tr>\n",
       "      <th>342</th>\n",
       "      <td>Clavaleyres</td>\n",
       "      <td>46</td>\n",
       "    </tr>\n",
       "    <tr>\n",
       "      <th>1160</th>\n",
       "      <td>Lohn (GR)</td>\n",
       "      <td>46</td>\n",
       "    </tr>\n",
       "    <tr>\n",
       "      <th>1627</th>\n",
       "      <td>Bosco/Gurin</td>\n",
       "      <td>46</td>\n",
       "    </tr>\n",
       "  </tbody>\n",
       "</table>\n",
       "</div>"
      ],
      "text/plain": [
       "          Commune  Residents\n",
       "1546      Corippo         11\n",
       "875   Kammersrohr         28\n",
       "2011       Bister         33\n",
       "366      Schelten         36\n",
       "370    Rebévelier         41\n",
       "485        Berken         45\n",
       "1629    Cerentino         45\n",
       "342   Clavaleyres         46\n",
       "1160    Lohn (GR)         46\n",
       "1627  Bosco/Gurin         46"
      ]
     },
     "execution_count": 14,
     "metadata": {},
     "output_type": "execute_result"
    }
   ],
   "source": [
    "# 3  Top 10 least populated communes by number of residents\n",
    "\n",
    "df.nsmallest(10, \"Residents\")[[\"Commune\", \"Residents\"]]"
   ]
  },
  {
   "cell_type": "code",
   "execution_count": 17,
   "id": "01d88050-8654-4b12-94cb-90b33fbd7490",
   "metadata": {
    "tags": []
   },
   "outputs": [],
   "source": [
    "# 4 Group communes by canton and save to CSV files\n",
    "\n",
    "for Canton, data in df.groupby(\"Canton\"):\n",
    "    data.to_csv(f\"{Canton}.csv\", index=False)"
   ]
  },
  {
   "cell_type": "code",
   "execution_count": 25,
   "id": "4a005950-9399-478a-ad19-4079bc6e7472",
   "metadata": {
    "tags": []
   },
   "outputs": [
    {
     "name": "stdout",
     "output_type": "stream",
     "text": [
      "        Population Density\n",
      "Canton                    \n",
      "BS             5271.069012\n",
      "GE             2031.893255\n",
      "ZH              948.443099\n",
      "ZG              612.265881\n",
      "BL              556.593969\n",
      "AG              486.145498\n",
      "SO              345.618319\n",
      "TG              320.320701\n",
      "LU              286.577848\n",
      "VD              283.275259\n",
      "SH              274.989938\n",
      "SG              260.210650\n",
      "NE              249.037193\n",
      "AR              227.450173\n",
      "FR              201.503947\n",
      "SZ              186.964795\n",
      "NW              179.095881\n",
      "BE              177.054876\n",
      "TI              131.670991\n",
      "AI               93.605056\n",
      "JU               87.558884\n",
      "OW               78.733719\n",
      "VS               65.977584\n",
      "GL               59.355076\n",
      "UR               34.457223\n",
      "GR               29.047582\n"
     ]
    }
   ],
   "source": [
    "# 5 Population density at canton level and rank\n",
    "\n",
    "canton_population_density = df.groupby(\"Canton\").agg({\"Residents\": \"sum\",\n",
    "                                                      \"Surface area in km²\": \"sum\"})\n",
    "canton_population_density[\"Population Density\"] = canton_population_density[\"Residents\"] / canton_population_density[\"Surface area in km²\"]\n",
    "canton_population_density = canton_population_density.sort_values(by=\"Population Density\", ascending=False)\n",
    "print(canton_population_density[[\"Population Density\"]])"
   ]
  },
  {
   "cell_type": "markdown",
   "id": "099dde09-8764-4681-b951-a3007a5e7f5b",
   "metadata": {},
   "source": [
    "### Comments:\n",
    "The top 2 cantons BS and GE have the higest population density, meaning that most of the population leave in this areas. This can be due to the presence of international organizations and the banking sector. UR and GR have notably lower population densities. indicating a sparser population distribution in these areas."
   ]
  },
  {
   "cell_type": "code",
   "execution_count": 26,
   "id": "553d3853-920f-4142-b8da-abed7a0969ec",
   "metadata": {
    "tags": []
   },
   "outputs": [
    {
     "data": {
      "text/plain": [
       "Canton\n",
       "BE    11\n",
       "FR     2\n",
       "GR     7\n",
       "JU     2\n",
       "SO     3\n",
       "TI     8\n",
       "VD     4\n",
       "VS     3\n",
       "Name: Commune, dtype: int64"
      ]
     },
     "execution_count": 26,
     "metadata": {},
     "output_type": "execute_result"
    }
   ],
   "source": [
    "# 6 Communes with more than 50% population aged 20-64\n",
    "\n",
    "df[df[\"20-64 years\"] > (0.5 * df[\"Residents\"])].groupby(\"Canton\")[\"Commune\"].count()"
   ]
  },
  {
   "cell_type": "code",
   "execution_count": 28,
   "id": "e843dfc7-de8e-49eb-bca0-6607b59d3814",
   "metadata": {
    "tags": []
   },
   "outputs": [
    {
     "data": {
      "text/plain": [
       "Canton\n",
       "VS    2610\n",
       "TI    2044\n",
       "BE    2025\n",
       "GR    2017\n",
       "UR    1871\n",
       "Name: Elevation, dtype: int64"
      ]
     },
     "execution_count": 28,
     "metadata": {},
     "output_type": "execute_result"
    }
   ],
   "source": [
    "# 7 Top 5 cantons with the largest range of elevations\n",
    "\n",
    "canton_elevation_range = df.groupby(\"Canton\")[\"Elevation\"].apply(lambda x: x.max() - x.min())\n",
    "canton_elevation_range.nlargest(5)"
   ]
  },
  {
   "cell_type": "code",
   "execution_count": null,
   "id": "bade2370-a3a5-48cc-9d53-b4cbe2023c81",
   "metadata": {},
   "outputs": [],
   "source": []
  }
 ],
 "metadata": {
  "kernelspec": {
   "display_name": "Python 3 (ipykernel)",
   "language": "python",
   "name": "python3"
  },
  "language_info": {
   "codemirror_mode": {
    "name": "ipython",
    "version": 3
   },
   "file_extension": ".py",
   "mimetype": "text/x-python",
   "name": "python",
   "nbconvert_exporter": "python",
   "pygments_lexer": "ipython3",
   "version": "3.11.5"
  },
  "toc-autonumbering": false,
  "toc-showcode": true,
  "toc-showmarkdowntxt": false
 },
 "nbformat": 4,
 "nbformat_minor": 5
}
